{
 "cells": [
  {
   "cell_type": "code",
   "execution_count": 1,
   "metadata": {},
   "outputs": [
    {
     "name": "stdout",
     "output_type": "stream",
     "text": [
      "                    Lisa Rose  Gene Seymour  Michael philips  claudia puig  \\\n",
      "Lady in the water         2.5           3.0              2.5           NaN   \n",
      "snakes on a plane         3.5           3.5              3.0           3.5   \n",
      "just my luck              3.0           1.5              NaN           3.0   \n",
      "superman Returns          3.5           5.0              3.5           4.0   \n",
      "you,me and dupree         2.5           3.5              NaN           2.5   \n",
      "the night listener        3.0           3.0              4.0           3.0   \n",
      "\n",
      "                    mick lasalle  jack mattews  toby  salma  \n",
      "Lady in the water            3.0           3.0   NaN    2.5  \n",
      "snakes on a plane            4.0           4.0   4.5    3.5  \n",
      "just my luck                 2.0           NaN   NaN    3.0  \n",
      "superman Returns             3.0           5.0   4.0    3.5  \n",
      "you,me and dupree            2.0           3.5   1.0    2.5  \n",
      "the night listener           3.0           3.0   NaN    3.0  \n"
     ]
    },
    {
     "name": "stderr",
     "output_type": "stream",
     "text": [
      "posx and posy should be finite values\n",
      "posx and posy should be finite values\n"
     ]
    },
    {
     "data": {
      "image/png": "[encoded data removed]",
      "text/plain": [
       "<Figure size 432x288 with 1 Axes>"
      ]
     },
     "metadata": {
      "needs_background": "light"
     },
     "output_type": "display_data"
    }
   ],
   "source": [
    "import pandas as pd\n",
    "import numpy as np\n",
    "import matplotlib.pyplot as plt\n",
    "import pandas as pd\n",
    "import numpy as np\n",
    "import matplotlib.pylab as plt\n",
    "import seaborn as sns\n",
    "critics={'Lisa Rose':{'Lady in the water':2.5,'snakes on a plane':3.5,'just my luck': 3.0,'superman Returns':3.5,\n",
    "        'you,me and dupree':2.5,'the night listener':3.0\n",
    "        },\n",
    "        'Gene Seymour':{'Lady in the water':3.0,'snakes on a plane':3.5,'just my luck':1.5,'superman Returns':5.0,\n",
    "                        'you,me and dupree':3.5,'the night listener':3.0\n",
    "        },\n",
    "        'Michael philips':{'Lady in the water':2.5,'snakes on a plane':3.0,'superman Returns':3.5,'the night listener':4.0\n",
    "        },\n",
    "        'claudia puig':{'snakes on a plane':3.5,'just my luck':3.0,'the night listener':3.0,'superman Returns':4.0,'you,me and dupree':2.5,\n",
    "         },\n",
    "        'mick lasalle':{'Lady in the water':3.0,'snakes on a plane':4.0,'just my luck':2.0,'superman Returns':3.0,'the night listener':3.0,\n",
    "                        'you,me and dupree':2.0\n",
    "        },\n",
    "        'jack mattews':{'Lady in the water':3.0,'snakes on a plane':4.0,'the night listener':3.0,'superman Returns':5.0,\n",
    "        'you,me and dupree':3.5\n",
    "        },\n",
    "        'toby':{'snakes on a plane':4.5,'you,me and dupree':1.0,'superman Returns':4.0\n",
    "        },\n",
    "         'salma':{'Lady in the water':2.5,'snakes on a plane':3.5,'just my luck': 3.0,'superman Returns':3.5,\n",
    "        'you,me and dupree':2.5,'the night listener':3.0}\n",
    "        }\n",
    "\n",
    "\n",
    "\n",
    " \n",
    "dff =pd.DataFrame(critics)\n",
    "print(dff)\n",
    "snakes=dff.iloc[1:2,:]\n",
    "list_snakes=snakes.values.tolist()\n",
    "\n",
    "\n",
    "\n",
    "dupree=dff.iloc[4:5,:]\n",
    "list_dupree=dupree.values.tolist()\n",
    "\n",
    "\n",
    "df = pd.DataFrame({\n",
    "'snakes':[3.5, 3.5, 3. , 3.5, 4. , 4.,  4.5] ,\n",
    "'dupree':[2.5 ,3.5, None, 2.5 ,2.,  3.5, 1. ] ,\n",
    "    \n",
    "'group': [\"Lisa\",\"Seymour\",\"philips\",\"puig\",\"lasalle\",\"mattews\",\"toby\"]\n",
    "})\n",
    "\n",
    "\n",
    "p2=sns.regplot(data=df,x=\"dupree\",y=\"snakes\",fit_reg=False, marker=\"o\", color=\"blue\", scatter_kws={'s':200})\n",
    "for line in  range(0,df.shape[0]):\n",
    "    p2.text(df.dupree[line]+0.01, df.snakes[line], df.group[line], horizontalalignment='left', size='medium', color='black', weight='semibold')\n",
    "    \n"
   ]
  },
  {
   "cell_type": "code",
   "execution_count": 9,
   "metadata": {},
   "outputs": [
    {
     "name": "stdout",
     "output_type": "stream",
     "text": [
      "1.118033988749895\n"
     ]
    }
   ],
   "source": [
    "#this figure shows the people charted in the preferences space. the closer two peole are in the preferences space,the more\n",
    "#similar in their prefrences are\n",
    "#we can see that toby(snakes:4.5, dupree:1) and lasalle(snakes:4, dupree :2)\n",
    "#now we are going to calculte the distance betwenn both of them.\n",
    "#to do that we applicate the following function\n",
    "from math import sqrt\n",
    "distance=sqrt(pow(4.5-4,2)+pow(1-2,2))#\n",
    "print(distance)#1.118033988749895\n",
    "#this formula calculate the distance which musst be smaller for people who  similar in their taste are\n",
    "#however , you need a function that gives higher values for peole who are similar this can be by adding one to the function \n",
    "#so you don't get a division by zero error\n",
    "dist=1/(1+distance)#0.4721359549995794\n",
    "# this function gives a number between 0 und 1 , where the value 0 means that two people have identical preferences\n"
   ]
  },
  {
   "cell_type": "code",
   "execution_count": 10,
   "metadata": {},
   "outputs": [
    {
     "name": "stdout",
     "output_type": "stream",
     "text": [
      "the euclidean distance score between Lisa Rose and Gene Seymour ist:  0.29429805508554946\n",
      "the euclidean distance score between Lisa Rose and Michael philips ist:  0.4721359549995794\n",
      "the euclidean distance score between Lisa Rose and claudia puig ist:  0.6666666666666666\n",
      "the euclidean distance score between Lisa Rose and mick lasalle ist:  0.4142135623730951\n",
      "the euclidean distance score between Lisa Rose and jack mattews ist:  0.3405424265831667\n",
      "the euclidean distance score between Lisa Rose and toby ist:  0.3483314773547883\n",
      "the euclidean distance score between Gene Seymour and Michael philips ist:  0.3405424265831667\n",
      "the euclidean distance score between Gene Seymour and claudia puig ist:  0.3266316347104093\n",
      "the euclidean distance score between Gene Seymour and mick lasalle ist:  0.27792629762666365\n",
      "the euclidean distance score between Gene Seymour and jack mattews ist:  0.6666666666666666\n",
      "the euclidean distance score between Gene Seymour  and toby ist:  0.25824569976124334\n",
      "the euclidean distance score between Michael philips and claudia puig ist:  0.4494897427831781\n",
      "the euclidean distance score between Michael philips and mick lasalle ist:  0.38742588672279304\n",
      "the euclidean distance score between Michael philips and jack mattews ist:  0.32037724101704074\n",
      "the euclidean distance score between Michael philips  and toby ist:  0.38742588672279304\n",
      "the euclidean distance score between claudia puig and mick lasalle ist:  0.38742588672279304\n",
      "the euclidean distance score between claudia puig and jack mattews ist:  0.4\n",
      "the euclidean distance score between claudia puig  and toby ist:  0.3567891723253309\n",
      "the euclidean distance score between mick lasalle and jack mattews ist:  0.2857142857142857\n",
      "the euclidean distance score between mick lasalle  and toby ist:  0.4\n",
      "the euclidean distance score between jack mattews  and toby ist:  0.3567891723253309\n"
     ]
    }
   ],
   "source": [
    "#euclidean distance Score\n",
    "from math import sqrt\n",
    "def euclidean_distance_score(critics,person1,person2):\n",
    "    si={}\n",
    "    for item in critics[person1]:\n",
    "        if item in critics[person2]:\n",
    "            si[item]=1\n",
    "    if(len(si))==0:\n",
    "        return 0\n",
    "    euclidean=sum([pow(critics[person1][item]-critics[person2][item],2) for item in si])\n",
    "    return 1/(1+sqrt(euclidean))\n",
    "\n",
    "dis_lisa_gene=euclidean_distance_score(critics,'Lisa Rose','Gene Seymour')\n",
    "dis_lisa_philip=euclidean_distance_score(critics,'Lisa Rose','Michael philips')\n",
    "dis_lisa_claudia=euclidean_distance_score(critics,'Lisa Rose','claudia puig')\n",
    "dis_lisa_lasalle=euclidean_distance_score(critics,'Lisa Rose','mick lasalle' )\n",
    "dis_lisa_mat=euclidean_distance_score(critics,'Lisa Rose','jack mattews')\n",
    "dis_lisa_toby=euclidean_distance_score(critics,'Lisa Rose','toby')\n",
    "print(\"the euclidean distance score between Lisa Rose and Gene Seymour ist: \",dis_lisa_gene)\n",
    "print(\"the euclidean distance score between Lisa Rose and Michael philips ist: \",dis_lisa_philip)\n",
    "print(\"the euclidean distance score between Lisa Rose and claudia puig ist: \",dis_lisa_claudia)\n",
    "print(\"the euclidean distance score between Lisa Rose and mick lasalle ist: \",dis_lisa_lasalle)\n",
    "print(\"the euclidean distance score between Lisa Rose and jack mattews ist: \",dis_lisa_mat)\n",
    "print(\"the euclidean distance score between Lisa Rose and toby ist: \",dis_lisa_toby)\n",
    "\n",
    "print(\"the euclidean distance score between Gene Seymour and Michael philips ist: \",euclidean_distance_score(critics,'Gene Seymour','Michael philips'))\n",
    "print(\"the euclidean distance score between Gene Seymour and claudia puig ist: \",euclidean_distance_score(critics,'Gene Seymour','claudia puig'))\n",
    "print(\"the euclidean distance score between Gene Seymour and mick lasalle ist: \",euclidean_distance_score(critics,'Gene Seymour','mick lasalle'))\n",
    "print(\"the euclidean distance score between Gene Seymour and jack mattews ist: \",euclidean_distance_score(critics,'Gene Seymour','jack mattews'))\n",
    "print(\"the euclidean distance score between Gene Seymour  and toby ist: \",euclidean_distance_score(critics,'Gene Seymour','toby'))\n",
    "\n",
    "\n",
    "print(\"the euclidean distance score between Michael philips and claudia puig ist: \",euclidean_distance_score(critics,'Michael philips','claudia puig'))\n",
    "print(\"the euclidean distance score between Michael philips and mick lasalle ist: \",euclidean_distance_score(critics,'Michael philips','mick lasalle'))\n",
    "print(\"the euclidean distance score between Michael philips and jack mattews ist: \",euclidean_distance_score(critics,'Michael philips','jack mattews'))\n",
    "print(\"the euclidean distance score between Michael philips  and toby ist: \",euclidean_distance_score(critics,'Michael philips','toby'))\n",
    "\n",
    "\n",
    "print(\"the euclidean distance score between claudia puig and mick lasalle ist: \",euclidean_distance_score(critics,'claudia puig','mick lasalle'))\n",
    "print(\"the euclidean distance score between claudia puig and jack mattews ist: \",euclidean_distance_score(critics,'claudia puig','jack mattews'))\n",
    "print(\"the euclidean distance score between claudia puig  and toby ist: \",euclidean_distance_score(critics,'claudia puig','toby'))\n",
    "\n",
    "\n",
    "print(\"the euclidean distance score between mick lasalle and jack mattews ist: \",euclidean_distance_score(critics,'mick lasalle','jack mattews'))\n",
    "print(\"the euclidean distance score between mick lasalle  and toby ist: \",euclidean_distance_score(critics,'mick lasalle','toby'))\n",
    "\n",
    "print(\"the euclidean distance score between jack mattews  and toby ist: \",euclidean_distance_score(critics,'claudia puig','toby'))\n"
   ]
  },
  {
   "cell_type": "code",
   "execution_count": 11,
   "metadata": {},
   "outputs": [],
   "source": [
    "# A slightly more sophisticated algo to determine if two people have identical preferences is pearson correlation score\n",
    "# the correlation coefficient is a measure of how well two set of data fit on the stright line\n",
    "#the formula is sophisticaed but it tends to give better result in case not well normilized data sets"
   ]
  },
  {
   "cell_type": "code",
   "execution_count": 12,
   "metadata": {},
   "outputs": [
    {
     "name": "stdout",
     "output_type": "stream",
     "text": [
      "[2.76470588 2.90196078 2.35294118 3.31372549 2.90196078 2.76470588]\n"
     ]
    },
    {
     "data": {
      "text/plain": [
       "<matplotlib.axes._subplots.AxesSubplot at 0x1a9e539c2b0>"
      ]
     },
     "execution_count": 12,
     "metadata": {},
     "output_type": "execute_result"
    },
    {
     "data": {
      "image/png": "[encoded data removed]",
      "text/plain": [
       "<Figure size 432x288 with 1 Axes>"
      ]
     },
     "metadata": {
      "needs_background": "light"
     },
     "output_type": "display_data"
    }
   ],
   "source": [
    "GeneSeymour_item=dff['Gene Seymour'].tolist()\n",
    "micklasalle_item=dff['mick lasalle'].tolist()\n",
    "#x=np.aarray(GeneSeymour_item)\n",
    "y=np.array(micklasalle_item)\n",
    "x=np.array(GeneSeymour_item)\n",
    "\n",
    "\n",
    "def rec(x , y ):\n",
    "    xmean = np.mean(x)\n",
    "    ymean = np.mean(y)\n",
    "    a = sum((x-xmean)*(y-ymean))/sum((x-xmean)**2)\n",
    "    b = ymean - a*xmean\n",
    "    return (a , b )\n",
    "a,b = rec(x , y )\n",
    "a,b\n",
    "line1=a*x+b\n",
    "print(line1)\n",
    "\n",
    "\n",
    "\n",
    "df_item = pd.DataFrame({\n",
    "'micklasalle':np.array(micklasalle_item) ,\n",
    "'genesemour':np.array(GeneSeymour_item),\n",
    "    \n",
    "'group': ['Lady in the water','snakes on a plane', 'just my luck', 'superman Returns', 'you,me and dupree','the night listener']\n",
    "})\n",
    "p2=sns.regplot(data=df_item,x=\"micklasalle\",y=\"genesemour\",fit_reg=False, marker=\"o\", color=\"blue\", scatter_kws={'s':200})\n",
    "for line in  range(0,df_item.shape[0]):\n",
    "        p2.text(df_item.micklasalle[line]+0.01, df_item.genesemour[line], df_item.group[line], horizontalalignment='left', size='medium', color='black', weight='semibold')\n",
    "sns.lineplot(x=x, y=line1)\n",
    "\n"
   ]
  },
  {
   "cell_type": "code",
   "execution_count": 13,
   "metadata": {},
   "outputs": [
    {
     "data": {
      "image/png": "[encoded data removed]",
      "text/plain": [
       "<Figure size 432x288 with 1 Axes>"
      ]
     },
     "metadata": {
      "needs_background": "light"
     },
     "output_type": "display_data"
    },
    {
     "data": {
      "text/plain": [
       "<matplotlib.axes._subplots.AxesSubplot at 0x1a9e5492d90>"
      ]
     },
     "execution_count": 13,
     "metadata": {},
     "output_type": "execute_result"
    },
    {
     "name": "stderr",
     "output_type": "stream",
     "text": [
      "posx and posy should be finite values\n",
      "posx and posy should be finite values\n"
     ]
    },
    {
     "data": {
      "image/png": "[encoded data removed]",
      "text/plain": [
       "<Figure size 432x288 with 1 Axes>"
      ]
     },
     "metadata": {
      "needs_background": "light"
     },
     "output_type": "display_data"
    }
   ],
   "source": [
    "Lisa_Rose_item=dff['Lisa Rose'].tolist()\n",
    "jackm_attews_item=dff['jack mattews'].tolist()\n",
    "\n",
    "#x=np.aarray(GeneSeymour_item)\n",
    "x=np.array(jackm_attews_item)\n",
    "y=np.array(Lisa_Rose_item)\n",
    "\n",
    "\n",
    "\n",
    "def rec(x , y ):\n",
    "    xmean = np.mean(x)\n",
    "    ymean = np.mean(y)\n",
    "    a1= sum((x-xmean)*(y-ymean))/sum((x-xmean)**2)\n",
    "    b1 = ymean - a1*xmean\n",
    "    return (a , b )\n",
    "a1,b1 = rec(x , y )\n",
    "line_lisa_jack=a1*x+b1\n",
    "\n",
    "plt.scatter(x,y)\n",
    "plt.plot(x,line_lisa_jack)\n",
    "plt.show()\n",
    "\n",
    "\n",
    "\n",
    "df_item = pd.DataFrame({\n",
    "'jack_mattews':np.array(jackm_attews_item) ,\n",
    "'Lisa_Rose':np.array(Lisa_Rose_item),\n",
    "    \n",
    "'group': ['Lady in the water','snakes on a plane', 'just my luck', 'superman Returns', 'you,me and dupree','the night listener']\n",
    "})\n",
    "p2=sns.regplot(data=df_item,x=\"jack_mattews\",y=\"Lisa_Rose\",fit_reg=False, marker=\"o\", color=\"blue\", scatter_kws={'s':200})\n",
    "for line in  range(0,df_item.shape[0]):\n",
    "        p2.text(df_item.jack_mattews[line]+0.01, df_item.Lisa_Rose[line], df_item.group[line], horizontalalignment='left', size='medium', color='black', weight='semibold')\n",
    "sns.lineplot(x=x, y=line_lisa_jack)\n",
    "\n"
   ]
  },
  {
   "cell_type": "code",
   "execution_count": 9,
   "metadata": {},
   "outputs": [],
   "source": [
    "#one interesting aspect of using Pearson score as you see it corrects the grade inflation \n",
    "# as we see in the figure jack_mattews tends to give higer score than lisa ,\n",
    "#but the line still fit because they habe similar preferences\n",
    "#the difference between the score is routinely consistent , \n",
    "# pearson correlation score described that that two critics are dissimilar when \n",
    "#the difference betwen their score are unconsistent\n",
    "#"
   ]
  },
  {
   "cell_type": "code",
   "execution_count": 14,
   "metadata": {},
   "outputs": [
    {
     "name": "stdout",
     "output_type": "stream",
     "text": [
      "1.0\n"
     ]
    }
   ],
   "source": [
    "import math \n",
    "def sim_pearson(pref,p1,p2):\n",
    "    si={}\n",
    "    for item in pref[p1]:\n",
    "        if item in pref[p2]:\n",
    "            si[item]=1\n",
    "    if len(si)==0:\n",
    "        return 0\n",
    "    n=len(si)\n",
    "    sum1=sum([pref[p1][it] for it in si])#sum(s)\n",
    "    sum2=sum([pref[p2][it] for it in si])#sum(y)\n",
    "    \n",
    "    sum1sq=sum([pow(pref[p1][it],2) for it in si])#sum(xpow2)\n",
    "    sum2sq=sum([pow(pref[p2][it],2) for it in si])#sum(ypow2)\n",
    "    \n",
    "    psum=sum([pref[p1][it]*pref[p2][it]for it in si])\n",
    "    \n",
    "    nenner= n*(psum)-(sum1)*(sum2)\n",
    "    zeiler=sqrt((n*sum1sq-pow(sum1,2))*(n*sum2sq-pow(sum2,2)))\n",
    "    if zeiler ==0:\n",
    "        return 0\n",
    "    r=nenner/zeiler\n",
    "    return r\n",
    "x=sim_pearson(critics,'Lisa Rose','Gene Seymour')\n",
    "x_salma_lisa=sim_pearson(critics,'Lisa Rose','salma')\n",
    "print(x_salma_lisa)\n",
    "#salma und lisa have exactly the same rating for every items therfore their correlation score is 1\n",
    "#generally sim_pearson tends to give a value between 1 and -1 1 means that two critics have exactly the same rating for every items\n",
    "#they have identical preferences with the same rating,otherweise -1 means there is no identical preferences between those two critics\n"
   ]
  },
  {
   "cell_type": "code",
   "execution_count": 15,
   "metadata": {},
   "outputs": [],
   "source": [
    "#actually there are many other metrics to calculate the distance for example(manhattan or jaccard matrics)\n",
    "#choosing the metrics depends on your application for manhattan is used to calculate distance in google map\n",
    "#for some metrics higher number means more similar"
   ]
  },
  {
   "cell_type": "code",
   "execution_count": 16,
   "metadata": {},
   "outputs": [
    {
     "name": "stdout",
     "output_type": "stream",
     "text": [
      "[(0.39605901719066977, 'Gene Seymour'), (0.40451991747794525, 'Michael philips'), (0.5940885257860046, 'mick lasalle'), (0.747017880833996, 'jack mattews'), (0.9434563530497265, 'claudia puig')]\n"
     ]
    }
   ],
   "source": [
    "#Ranking the critcs\n",
    "def tomatches(prefs,person,n=5,similarity=sim_pearson):\n",
    "    scores=[(similarity(prefs,person,other),other) for other in prefs if other!=person]\n",
    "    scores.sort()\n",
    "    #scores.reverse()# beginnt with the last item , even is n<8\n",
    "    return scores[0:n]\n",
    "x=tomatches(critics,'salma',n=5)\n",
    "print(x)\n"
   ]
  },
  {
   "cell_type": "code",
   "execution_count": 37,
   "metadata": {},
   "outputs": [
    {
     "name": "stdout",
     "output_type": "stream",
     "text": [
      "[(2.642160707342524, 'just my luck'), (2.749119692516404, 'Lady in the water'), (3.0, 'the night listener')]\n"
     ]
    }
   ],
   "source": [
    "#finding a good critics to read is great, but what i want is a movie recommendation right now. i could just look at the person whose\n",
    "# tastes similar to mine and look at the movies he might like, that i haven't seen yet. that would be more permissive\n",
    "#such an approach could accidentally turn up reviewers who have not reviwéwed some of the movies that i might like , it could also \n",
    "# turn up reviwer who strangely liked a movie that got bad reviwes from all the the critics in tomatches\n",
    "def getrecommendations(prefs,person,similarity=sim_pearson):\n",
    "    totals={}\n",
    "    simsum={}\n",
    "    for other in prefs:\n",
    "        if other==person : continue\n",
    "        sim=similarity(prefs,person,other)\n",
    "        if sim<=0:continue\n",
    "        for item in prefs[other]:\n",
    "            if item not in prefs[person] or prefs[person][item]==0:\n",
    "                totals.setdefault(item,0)\n",
    "                totals[item]+=prefs[other][item]*sim\n",
    "                simsum.setdefault(item,0)\n",
    "                simsum[item]+=sim\n",
    "    rankings=[(total/simsum[item],item) for item,total in totals.items()]\n",
    "    rankings.sort()\n",
    "    \n",
    "    return rankings\n",
    "            \n",
    "    \n",
    "print(getrecommendations(critics,'toby'))\n",
    "#conclusion:\n",
    "#  the purpose from getrecommendation is to is to find your score for each item.\n",
    "#  one of the most simple way is to look at the person whose tastes similar to yours and from his score you can figure out your scores\n",
    "#  such an approach have to be more permissive, therfore we shoul apply the following tricks:\n",
    "#1 with a loop for we should iterate every item in critics \n",
    "#2 calculate sim for my specific item with other\n",
    "#3 and then we do the summation of all similarity\n",
    "#4 we multiply item's score with the similarity=== > sum of multiplication\n",
    "#5 and total of sum multiplication(for each item)/ total sim\n"
   ]
  },
  {
   "cell_type": "code",
   "execution_count": null,
   "metadata": {},
   "outputs": [],
   "source": [
    "\n",
    "# through the function getrecommendation we get not only a ranked list of movies, but we can also guess at what my ration for \n",
    "# each movie would be\n",
    "#  "
   ]
  },
  {
   "cell_type": "code",
   "execution_count": null,
   "metadata": {},
   "outputs": [],
   "source": [
    "# what about products, does it match in the same way like matching people?\n",
    "# yes , exactly just let us take us example amazon shopping site, particulary when the web site, had collected infos about you, and recommendations should be sent\n",
    "# for you, in this case we should determine similarity by looking at who liked a particular item\n",
    "#it's actulayy the same senario like calculation similarity between item\n",
    "# so let's do that"
   ]
  },
  {
   "cell_type": "code",
   "execution_count": null,
   "metadata": {},
   "outputs": [],
   "source": [
    "# now let us learning how to plot with sckit library"
   ]
  }
 ],
 "metadata": {
  "kernelspec": {
   "display_name": "Python 3",
   "language": "python",
   "name": "python3"
  },
  "language_info": {
   "codemirror_mode": {
    "name": "ipython",
    "version": 3
   },
   "file_extension": ".py",
   "mimetype": "text/x-python",
   "name": "python",
   "nbconvert_exporter": "python",
   "pygments_lexer": "ipython3",
   "version": "3.8.3"
  }
 },
 "nbformat": 4,
 "nbformat_minor": 4
}
